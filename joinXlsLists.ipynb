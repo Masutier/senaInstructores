{
 "cells": [
  {
   "cell_type": "code",
   "execution_count": 17,
   "id": "861c13a6",
   "metadata": {},
   "outputs": [],
   "source": [
    "import pandas as pd"
   ]
  },
  {
   "cell_type": "code",
   "execution_count": 9,
   "id": "158f1f6a",
   "metadata": {},
   "outputs": [],
   "source": [
    "#INSTRUCTORES\n",
    "data1 = pd.read_excel('/home/gabriel/Downloads/AppInstructores/aLL instructores 16 nov 2023.xlsx')\n",
    "data2 = pd.read_excel('/home/gabriel/Downloads/AppInstructores/ARRIVE/instructores/old/Listado Instructores IV Trimestre Oct_30.xlsx')"
   ]
  },
  {
   "cell_type": "code",
   "execution_count": 10,
   "id": "3739ddd9",
   "metadata": {},
   "outputs": [],
   "source": [
    "dataf = pd.concat([data1, data2]).drop_duplicates().reset_index(drop=True)"
   ]
  },
  {
   "cell_type": "code",
   "execution_count": 12,
   "id": "f8f12a45",
   "metadata": {},
   "outputs": [],
   "source": [
    "dataf.to_excel('/home/gabriel/Downloads/AppInstructores/aLLTotalInstructores_20_nov_2023.xlsx', index=False)"
   ]
  },
  {
   "cell_type": "code",
   "execution_count": 18,
   "id": "30993521",
   "metadata": {},
   "outputs": [],
   "source": [
    "#APRENDICES\n",
    "data3 = pd.read_excel('/home/gabriel/Downloads/AppInstructores/Reporte_de_Aprendices_ALL_Nov_17_23.xls')\n",
    "data4 = pd.read_excel('/home/gabriel/Downloads/AppInstructores/ARRIVE/aprendices/old/Aprendices 26_10.xlsx')"
   ]
  },
  {
   "cell_type": "code",
   "execution_count": 19,
   "id": "ae23116c",
   "metadata": {},
   "outputs": [],
   "source": [
    "dataaf = pd.concat([data3, data4]).drop_duplicates().reset_index(drop=True)"
   ]
  },
  {
   "cell_type": "code",
   "execution_count": 20,
   "id": "f2623316",
   "metadata": {},
   "outputs": [],
   "source": [
    "dataaf.to_excel('/home/gabriel/Downloads/AppInstructores/aLLTotalAprendices_20_nov_2023.xlsx', index=False)"
   ]
  },
  {
   "cell_type": "code",
   "execution_count": null,
   "id": "848831b6",
   "metadata": {},
   "outputs": [],
   "source": []
  }
 ],
 "metadata": {
  "kernelspec": {
   "display_name": "Python 3 (ipykernel)",
   "language": "python",
   "name": "python3"
  },
  "language_info": {
   "codemirror_mode": {
    "name": "ipython",
    "version": 3
   },
   "file_extension": ".py",
   "mimetype": "text/x-python",
   "name": "python",
   "nbconvert_exporter": "python",
   "pygments_lexer": "ipython3",
   "version": "3.10.12"
  }
 },
 "nbformat": 4,
 "nbformat_minor": 5
}
